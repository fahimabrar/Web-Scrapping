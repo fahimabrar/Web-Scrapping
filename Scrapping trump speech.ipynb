{
 "cells": [
  {
   "cell_type": "markdown",
   "metadata": {},
   "source": [
    "### First we need to import necessary library"
   ]
  },
  {
   "cell_type": "code",
   "execution_count": 1,
   "metadata": {},
   "outputs": [],
   "source": [
    "from bs4 import BeautifulSoup\n",
    "import requests as re\n",
    "import pandas as pd"
   ]
  },
  {
   "cell_type": "markdown",
   "metadata": {},
   "source": [
    "#### re.get gives us the contests or the html codes for the webpage"
   ]
  },
  {
   "cell_type": "code",
   "execution_count": 2,
   "metadata": {},
   "outputs": [],
   "source": [
    "r = re.get(\"https://www.rev.com/blog/transcript-category/donald-trump-transcripts?view=all\")\n",
    "#print(r.content)"
   ]
  },
  {
   "cell_type": "markdown",
   "metadata": {},
   "source": [
    "### Lets convert the messy codes into beutiful form with Beautiful Soup"
   ]
  },
  {
   "cell_type": "code",
   "execution_count": 3,
   "metadata": {},
   "outputs": [],
   "source": [
    "soup = BeautifulSoup(r.content)"
   ]
  },
  {
   "cell_type": "code",
   "execution_count": 4,
   "metadata": {
    "scrolled": false
   },
   "outputs": [],
   "source": [
    "#soup"
   ]
  },
  {
   "cell_type": "markdown",
   "metadata": {},
   "source": [
    "### Let's find all the div container with class name f1-post-column. In that div, there are link for individual pages of Trump speeches"
   ]
  },
  {
   "cell_type": "code",
   "execution_count": 5,
   "metadata": {},
   "outputs": [],
   "source": [
    "div = soup.findAll(\"div\", {\"class\":\"fl-post-column\"})"
   ]
  },
  {
   "cell_type": "code",
   "execution_count": 6,
   "metadata": {},
   "outputs": [],
   "source": [
    "link_list = []"
   ]
  },
  {
   "cell_type": "code",
   "execution_count": 7,
   "metadata": {},
   "outputs": [],
   "source": [
    "for i in range(0, len(div)):\n",
    "    link_list.append(div[i].meta[\"itemid\"])"
   ]
  },
  {
   "cell_type": "code",
   "execution_count": 8,
   "metadata": {
    "scrolled": true
   },
   "outputs": [
    {
     "data": {
      "text/plain": [
       "['https://www.rev.com/blog/transcripts/donald-trump-speech-transcript-departing-white-house-on-inauguration-day',\n",
       " 'https://www.rev.com/blog/transcripts/president-donald-trump-farewell-address-speech-transcript',\n",
       " 'https://www.rev.com/blog/transcripts/donald-trump-second-video-speech-condemning-capitol-violence-transcript',\n",
       " 'https://www.rev.com/blog/transcripts/donald-trump-alamo-texas-speech-transcript-january-12-25th-amendment-zero-risk-to-me',\n",
       " 'https://www.rev.com/blog/transcripts/donald-trumps-first-comments-since-capitol-riots-says-he-wants-no-violence',\n",
       " 'https://www.rev.com/blog/transcripts/donald-trump-concedes-election-condemns-rioters-video-transcript-january-7',\n",
       " 'https://www.rev.com/blog/transcripts/trump-video-telling-protesters-at-capitol-building-to-go-home-transcript',\n",
       " 'https://www.rev.com/blog/transcripts/donald-trump-speech-save-america-rally-transcript-january-6',\n",
       " 'https://www.rev.com/blog/transcripts/donald-trump-rally-speech-transcript-dalton-georgia-senate-runoff-election',\n",
       " 'https://www.rev.com/blog/transcripts/donald-trump-georgia-phone-call-transcript-brad-raffensperger-recording',\n",
       " 'https://www.rev.com/blog/transcripts/donald-trump-melania-trump-christmas-message-transcript-2020',\n",
       " 'https://www.rev.com/blog/transcripts/donald-trump-video-speech-transcript-on-covid-relief-bill-december-22']"
      ]
     },
     "execution_count": 8,
     "metadata": {},
     "output_type": "execute_result"
    }
   ],
   "source": [
    "link_list"
   ]
  },
  {
   "cell_type": "markdown",
   "metadata": {},
   "source": [
    "### Find all the data into a data frame"
   ]
  },
  {
   "cell_type": "code",
   "execution_count": 9,
   "metadata": {},
   "outputs": [],
   "source": [
    "df = pd.DataFrame(columns = [\"id\", \"script\"])\n",
    "for i in range(0, len(link_list)):\n",
    "    r2 = re.get(link_list[i])\n",
    "    soup2 = BeautifulSoup(r2.content)\n",
    "    content = soup2.findAll(\"div\", {\"id\":\"transcription\"})\n",
    "    transcript = content[0].text\n",
    "    df = df.append({'id': i, \"script\": transcript}, ignore_index = True )"
   ]
  },
  {
   "cell_type": "code",
   "execution_count": 10,
   "metadata": {},
   "outputs": [
    {
     "data": {
      "text/html": [
       "<div>\n",
       "<style scoped>\n",
       "    .dataframe tbody tr th:only-of-type {\n",
       "        vertical-align: middle;\n",
       "    }\n",
       "\n",
       "    .dataframe tbody tr th {\n",
       "        vertical-align: top;\n",
       "    }\n",
       "\n",
       "    .dataframe thead th {\n",
       "        text-align: right;\n",
       "    }\n",
       "</style>\n",
       "<table border=\"1\" class=\"dataframe\">\n",
       "  <thead>\n",
       "    <tr style=\"text-align: right;\">\n",
       "      <th></th>\n",
       "      <th>id</th>\n",
       "      <th>script</th>\n",
       "    </tr>\n",
       "  </thead>\n",
       "  <tbody>\n",
       "    <tr>\n",
       "      <th>0</th>\n",
       "      <td>0</td>\n",
       "      <td>\\n\\n\\n\\n \\nSpeaker 1: (00:10)\\nLadies and gent...</td>\n",
       "    </tr>\n",
       "    <tr>\n",
       "      <th>1</th>\n",
       "      <td>1</td>\n",
       "      <td>\\n\\n\\n\\n \\nPresident Donald Trump: (00:00)\\nMy...</td>\n",
       "    </tr>\n",
       "    <tr>\n",
       "      <th>2</th>\n",
       "      <td>2</td>\n",
       "      <td>\\n\\n\\n\\n \\nDonald Trump: (00:00)\\nMy fellow Am...</td>\n",
       "    </tr>\n",
       "    <tr>\n",
       "      <th>3</th>\n",
       "      <td>3</td>\n",
       "      <td>\\n\\n\\n\\n \\nDonald Trump: (03:51)\\nThank you ve...</td>\n",
       "    </tr>\n",
       "    <tr>\n",
       "      <th>4</th>\n",
       "      <td>4</td>\n",
       "      <td>\\n\\n\\n\\n \\nDonald Trump: (00:03)\\nWe’re going ...</td>\n",
       "    </tr>\n",
       "    <tr>\n",
       "      <th>5</th>\n",
       "      <td>5</td>\n",
       "      <td>\\n\\n\\n\\n \\nDonald Trump: (00:00)\\nI would like...</td>\n",
       "    </tr>\n",
       "    <tr>\n",
       "      <th>6</th>\n",
       "      <td>6</td>\n",
       "      <td>\\n\\n\\n\\n \\nDonald Trump: (00:00)\\nI know your ...</td>\n",
       "    </tr>\n",
       "    <tr>\n",
       "      <th>7</th>\n",
       "      <td>7</td>\n",
       "      <td>\\n\\n\\n\\n \\nDonald Trump: (02:44)\\nThe media wi...</td>\n",
       "    </tr>\n",
       "    <tr>\n",
       "      <th>8</th>\n",
       "      <td>8</td>\n",
       "      <td>\\n\\n\\n\\n \\nCrowd: (00:00)\\n(singing).\\nCrowd: ...</td>\n",
       "    </tr>\n",
       "    <tr>\n",
       "      <th>9</th>\n",
       "      <td>9</td>\n",
       "      <td>\\n\\n\\n\\n \\nMark Meadows: (00:00)\\nMr. Presiden...</td>\n",
       "    </tr>\n",
       "    <tr>\n",
       "      <th>10</th>\n",
       "      <td>10</td>\n",
       "      <td>\\n\\n\\n\\n \\nMelania Trump: (00:00)\\nThe preside...</td>\n",
       "    </tr>\n",
       "    <tr>\n",
       "      <th>11</th>\n",
       "      <td>11</td>\n",
       "      <td>\\n\\n\\n\\n \\nDonald Trump: (00:00)\\nThroughout t...</td>\n",
       "    </tr>\n",
       "  </tbody>\n",
       "</table>\n",
       "</div>"
      ],
      "text/plain": [
       "    id                                             script\n",
       "0    0  \\n\\n\\n\\n \\nSpeaker 1: (00:10)\\nLadies and gent...\n",
       "1    1  \\n\\n\\n\\n \\nPresident Donald Trump: (00:00)\\nMy...\n",
       "2    2  \\n\\n\\n\\n \\nDonald Trump: (00:00)\\nMy fellow Am...\n",
       "3    3  \\n\\n\\n\\n \\nDonald Trump: (03:51)\\nThank you ve...\n",
       "4    4  \\n\\n\\n\\n \\nDonald Trump: (00:03)\\nWe’re going ...\n",
       "5    5  \\n\\n\\n\\n \\nDonald Trump: (00:00)\\nI would like...\n",
       "6    6  \\n\\n\\n\\n \\nDonald Trump: (00:00)\\nI know your ...\n",
       "7    7  \\n\\n\\n\\n \\nDonald Trump: (02:44)\\nThe media wi...\n",
       "8    8  \\n\\n\\n\\n \\nCrowd: (00:00)\\n(singing).\\nCrowd: ...\n",
       "9    9  \\n\\n\\n\\n \\nMark Meadows: (00:00)\\nMr. Presiden...\n",
       "10  10  \\n\\n\\n\\n \\nMelania Trump: (00:00)\\nThe preside...\n",
       "11  11  \\n\\n\\n\\n \\nDonald Trump: (00:00)\\nThroughout t..."
      ]
     },
     "execution_count": 10,
     "metadata": {},
     "output_type": "execute_result"
    }
   ],
   "source": [
    "df"
   ]
  },
  {
   "cell_type": "markdown",
   "metadata": {},
   "source": [
    "### To save a data into csv form"
   ]
  },
  {
   "cell_type": "code",
   "execution_count": 11,
   "metadata": {},
   "outputs": [],
   "source": [
    "df.to_csv(\"trump.csv\")"
   ]
  },
  {
   "cell_type": "code",
   "execution_count": 13,
   "metadata": {},
   "outputs": [
    {
     "data": {
      "text/plain": [
       "'\\n\\n\\n\\n \\nSpeaker 1: (00:10)\\nLadies and gentlemen, please welcome the President and First Lady of the United States, Donald J. Trump and Melania Trump. (silence).\\nDonald Trump: (01:33)\\nThank you, thank you very much. Thank you.\\nCrowd: (01:45)\\nWe love you. We love you.\\nDonald Trump: (01:45)\\nThank you very much, and we love you. And I can tell you that from the bottom of my heart, this has been an incredible four years. We’ve accomplished so much together. I want to thank all of my family, and my friends, and my staff, and so many other people for being here. I want to thank you for your effort, your hard work. People have no idea how hard this family worked. They worked. And they worked for you. They could have had a much easier life, but they just did a fantastic job, I just want to thank all of you, everyone. I want to thank Mark Meadows, who’s here someplace right there. I want to thank Mark., But it’s been been something very special. We’ve accomplished a lot. Our First Lady has been a woman of great grace and beauty and dignity.\\nCrowd: (02:36)\\nThank you, Melania.\\nDonald Trump: (02:40)\\nAnd so popular with the people. So popular with the people. In fact, honey, would you like to say a few words?\\nMelania Trump: (02:50)\\nBeing your first lady was my greatest honor. Thank you for your love and your support. You will be in my thoughts and prayers. God bless you all, God bless your families, and God bless this beautiful nation.\\nDonald Trump: (03:12)\\nWhat else has to be said, right? But what we’ve done… That’s true, honey. Great job. What we’ve done has been amazing by any standard. We rebuilt the United States military. We created a new force called Space Force. That in itself would be a major achievement for a regular administration. We were not a regular administration. We took care of the vets, 91% approval rating. They’ve never had that before. The vets have given us, the VA, the vets have given us an approval rating like has never been before. We took care of our vets, and our beautiful vets. They were very badly treated before we came along. And as you know, we get them great service and we pick up the bill, and they can go out and they can see a doctor if they have to wait long periods of time. We got it so that we can sadly get rid of people that don’t treat our vets properly. We didn’t have any of those rights before when I came on. So our vets are happy. Our people are happy. Our military is thrilled.\\nDonald Trump: (04:25)\\nWe also got tax cuts, the largest tax cut and reform in the history of our country by far. I hope they don’t raise your taxes, but if they do, I told you so. And if you look at the regulations, which I consider the regulation cuts to be maybe even more important, that’s why we have such good and have had such good job numbers. And job numbers have been absolutely incredible. When we started, had we not been hit by the pandemic, we would have had numbers that would never have been seen. Already, our numbers are the best ever. If you look at what happened until February a year ago, our numbers were at a level that nobody had ever seen before. And even now, we really built it twice. We got hit. Nobody blames us for that. The whole world got hit, and then we built it again. And now the stock market is actually substantially higher than it was at its higher point prior to the pandemic. So it’s a really, you could say we built it twice. And you’re going to see incredible numbers start coming in, if everything is sort of left alone. Be careful, very complex, be careful, but you’re going to see some incredible things happening.\\nDonald Trump: (05:48)\\nAnd remember us when you see these things happening, if you would. Remember us because I’m looking at elements of our economy that are set to be a rocket ship up. It’s a rocket ship up. We have the greatest country in the world. We have the greatest economy in the world. And as bad as the pandemic was, we were hit so hard just like the entire world was hit so hard. Places that thought they got away with it, didn’t get away with it. They’re suffering right now.\\nDonald Trump: (06:22)\\nWe did something that is a really considered a medical miracle. They’re calling it a miracle. And that was the vaccine. We got the vaccine developed in nine months instead of nine years, or five years, or 10 years, or a long time. It was supposed to take a long time, many, many years to develop a vaccine. We have two out, we have another one coming almost immediately, and it really is a great achievement. So you should start to see really good numbers over the next few months. I think you’re going to see those numbers really skyrocket downward. And I can only say this. We have worked hard. We’ve left it all, as the athletes would say, we’ve left it all on the field. We don’t have to come and say… We’ll never say in a month, when we’re sitting in Florida, we’re not going to be looking at each other and saying, “You know, if we only worked a little bit harder.” You can’t work harder.\\nDonald Trump: (07:24)\\nAnd we had a lot of obstacles, and we went through the obstacles and we just got 75 million votes. And that’s a record in the history of sitting presidents. That’s an all time record by a lot, by many millions, in the history of sitting presidents. It’s been really just an honor. And one of the things we’re very, very proud of is the selection of almost 300 federal judges and three great Supreme Court justices. That’s a very big number. That’s a record setting number. And so we’ve done a lot, and there’s still things to do.\\nDonald Trump: (08:06)\\nThe first thing we have to do is pay our respects and our love to the incredible people and families who’ve suffered so gravely from the China Virus. It’s a horrible thing that was put onto the world. We all know where it came from, but it’s a horrible, horrible thing. So be very careful, be very, very careful. But we want to pay a great love, great love to all of the people that have suffered, including families who have suffered so gravely. So with that, I just want to say you are amazing people. This is a great, great country. It is my greatest honor and privilege to have been your president.\\nCrowd: (08:58)\\nUSA. USA. USA. USA. USA. USA. USA. USA. Thank you, Trump. Thank you, Trump. Thank you, Trump. Thank you, Trump. Thank you, Trump. Thank you, Trump. Thank you, Trump. Thank you, Trump. Thank you, Trump. Thank you, Trump. Thank you, Trump. Thank you, Trump. Thank you, Trump. Thank you, Trump.\\nDonald Trump: (09:27)\\nI will always fight for you. I will be watching. I will be listening. And I will tell you that the future of this country has never been better. I wish the new administration great luck and great success. I think they’ll have great success. They have the foundation to do something really spectacular. And again, we put it in a position like it’s never been before, despite the worst plague to hit, since I guess you’d say 1917, over a hundred years ago. And despite that, despite that, the things that we’ve done have been just incredible and I couldn’t have done it without you. So just a goodbye. We love you. We will be back in some form.\\nDonald Trump: (10:31)\\nAnd again, I want to just in leaving, I want to thank our Vice President, Mike Pence, and Karen. I want to thank Congress, because we really worked well with Congress, at least certain elements of Congress. But we really did. We’ve gotten so much done that nobody thought would be possible, but I do want to thank Congress. And I want to thank all of the great people of Washington, DC. All of the people that we worked with to put this miracle together. So have a good life. We will see you soon. Thank you. Thank you very much. Thank you very much.\\n \\n\\n\\n\\n'"
      ]
     },
     "execution_count": 13,
     "metadata": {},
     "output_type": "execute_result"
    }
   ],
   "source": [
    "df[\"script\"][0]"
   ]
  },
  {
   "cell_type": "code",
   "execution_count": null,
   "metadata": {},
   "outputs": [],
   "source": []
  }
 ],
 "metadata": {
  "kernelspec": {
   "display_name": "Python 3",
   "language": "python",
   "name": "python3"
  },
  "language_info": {
   "codemirror_mode": {
    "name": "ipython",
    "version": 3
   },
   "file_extension": ".py",
   "mimetype": "text/x-python",
   "name": "python",
   "nbconvert_exporter": "python",
   "pygments_lexer": "ipython3",
   "version": "3.8.3"
  }
 },
 "nbformat": 4,
 "nbformat_minor": 4
}
